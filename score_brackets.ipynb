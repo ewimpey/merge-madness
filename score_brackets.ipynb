{
 "cells": [
  {
   "cell_type": "code",
   "execution_count": 12,
   "metadata": {},
   "outputs": [],
   "source": [
    "import subprocess\n",
    "\n",
    "def get_branches():\n",
    "    # Get the list of all branches\n",
    "    result = subprocess.run([\"git\", \"branch\", \"-a\"], capture_output=True, text=True)\n",
    "    branches = result.stdout.strip().split('\\n')\n",
    "\n",
    "    # Filter and clean up branch names\n",
    "    cleaned_branches = []\n",
    "    for branch in branches:\n",
    "        # Remove leading asterisk and whitespace, and skip remote branches\n",
    "        cleaned_branch = branch.replace('*', '').strip().split('/')[-1]\n",
    "        if cleaned_branch not in cleaned_branches and not branch.startswith('remotes/'):\n",
    "            cleaned_branches.append(cleaned_branch)\n",
    "\n",
    "    return cleaned_branches\n",
    "\n",
    "# Get the list of branches\n",
    "branches = get_branches()\n"
   ]
  },
  {
   "cell_type": "code",
   "execution_count": 13,
   "metadata": {},
   "outputs": [],
   "source": [
    "import json\n",
    "import os\n",
    "\n",
    "def score_bracket(bracket, answers):\n",
    "    score = 0\n",
    "    points_per_round = {1: 1, 2: 2, 3: 4, 4: 8, 5: 16, 6: 32}  # Points for each round\n",
    "\n",
    "    with open(bracket) as fb, open(answers) as ak:\n",
    "        answer_key = json.load(ak)\n",
    "        user_bracket = json.load(fb)\n",
    "        for round_num, round_name in enumerate(answer_key, start=1):\n",
    "            for game_id, game in answer_key[round_name].items():\n",
    "                if game_id in user_bracket[round_name]:\n",
    "                    # Compare the winners in the same game of both brackets\n",
    "                    if game[\"winner\"] == user_bracket[round_name][game_id][\"winner\"]:\n",
    "                        score += points_per_round[round_num]\n",
    "    \n",
    "    return score"
   ]
  },
  {
   "cell_type": "code",
   "execution_count": 14,
   "metadata": {},
   "outputs": [],
   "source": [
    "branches = get_branches()\n",
    "scores = {}"
   ]
  },
  {
   "cell_type": "code",
   "execution_count": 15,
   "metadata": {},
   "outputs": [
    {
     "data": {
      "text/plain": [
       "['Chasem2020', 'Titodreamer', 'cdmoseley', 'main', 'sakar123', 'tomshafer']"
      ]
     },
     "execution_count": 15,
     "metadata": {},
     "output_type": "execute_result"
    }
   ],
   "source": [
    "branches"
   ]
  },
  {
   "cell_type": "code",
   "execution_count": 16,
   "metadata": {},
   "outputs": [],
   "source": [
    "for branch in branches:\n",
    "    if branch == 'tomshafer':\n",
    "        continue  # Skip the main branch\n",
    "    \n",
    "    # Checkout 'final_bracket.json' from the current branch\n",
    "    subprocess.run([\"git\", \"checkout\", branch, \"--\", \"final_bracket.json\"], check=True)\n",
    "    \n",
    "    # Call your scoring function\n",
    "    score = score_bracket(\"final_bracket.json\", \"answer_key.json\")\n",
    "    scores[branch] = score\n",
    "\n",
    "    # Restore the original state of 'final_bracket.json' if needed\n",
    "    subprocess.run([\"git\", \"checkout\", \"main\", \"--\", \"final_bracket.json\"], check=True)\n"
   ]
  },
  {
   "cell_type": "code",
   "execution_count": 17,
   "metadata": {},
   "outputs": [
    {
     "data": {
      "text/plain": [
       "{'Chasem2020': 174,\n",
       " 'Titodreamer': 203,\n",
       " 'cdmoseley': 107,\n",
       " 'main': 107,\n",
       " 'sakar123': 220}"
      ]
     },
     "execution_count": 17,
     "metadata": {},
     "output_type": "execute_result"
    }
   ],
   "source": [
    "scores"
   ]
  }
 ],
 "metadata": {
  "kernelspec": {
   "display_name": "hubspot",
   "language": "python",
   "name": "python3"
  },
  "language_info": {
   "codemirror_mode": {
    "name": "ipython",
    "version": 3
   },
   "file_extension": ".py",
   "mimetype": "text/x-python",
   "name": "python",
   "nbconvert_exporter": "python",
   "pygments_lexer": "ipython3",
   "version": "3.10.8"
  }
 },
 "nbformat": 4,
 "nbformat_minor": 2
}
